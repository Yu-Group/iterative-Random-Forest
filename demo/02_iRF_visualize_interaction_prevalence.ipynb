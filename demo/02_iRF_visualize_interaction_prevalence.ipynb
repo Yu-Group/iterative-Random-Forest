{
 "cells": [
  {
   "cell_type": "markdown",
   "metadata": {},
   "source": [
    "# Demo of visualizing iRF interaction prevalence "
   ]
  },
  {
   "cell_type": "code",
   "execution_count": 8,
   "metadata": {},
   "outputs": [],
   "source": [
    "import irf\n",
    "from sklearn.datasets import load_boston, load_breast_cancer\n",
    "from irf.ensemble import (wrf, \n",
    "                          wrf_reg)\n",
    "from irf.utils import (get_prevalent_interactions, \n",
    "                       visualize_impurity_decrease, \n",
    "                       visualize_prevalent_interactions)\n",
    "import numpy as np"
   ]
  },
  {
   "cell_type": "markdown",
   "metadata": {},
   "source": [
    "### load data"
   ]
  },
  {
   "cell_type": "code",
   "execution_count": 2,
   "metadata": {},
   "outputs": [],
   "source": [
    "#load_data\n",
    "data = load_boston()\n",
    "#data = load_breast_cancer()\n",
    "X = data['data']\n",
    "y = data['target']"
   ]
  },
  {
   "cell_type": "markdown",
   "metadata": {},
   "source": [
    "### traing weighted RF"
   ]
  },
  {
   "cell_type": "code",
   "execution_count": 3,
   "metadata": {},
   "outputs": [
    {
     "data": {
      "text/plain": [
       "wrf_reg(bootstrap=True, ccp_alpha=0.0, criterion='mse', max_depth=None,\n",
       "        max_features='auto', max_leaf_nodes=None, max_samples=None,\n",
       "        min_impurity_decrease=0.01, min_impurity_split=None, min_samples_leaf=1,\n",
       "        min_samples_split=2, min_weight_fraction_leaf=0.0, n_estimators=100,\n",
       "        n_jobs=None, oob_score=False, random_state=None, verbose=0,\n",
       "        warm_start=False)"
      ]
     },
     "execution_count": 3,
     "metadata": {},
     "output_type": "execute_result"
    }
   ],
   "source": [
    "#train_model\n",
    "rf = wrf_reg(min_impurity_decrease=0.01)\n",
    "weight = np.ones((X.shape[1],))\n",
    "weight = weight / np.sum(weight)\n",
    "rf.fit(X, y, feature_weight=weight, K = 3, keep_record=False)"
   ]
  },
  {
   "cell_type": "code",
   "execution_count": 4,
   "metadata": {},
   "outputs": [
    {
     "name": "stdout",
     "output_type": "stream",
     "text": [
      "[3.85900904e-02 5.98901386e-04 3.84326967e-03 4.53470791e-04\n",
      " 2.47357178e-02 4.59479355e-01 1.27338033e-02 6.71179479e-02\n",
      " 1.77398924e-03 1.25623613e-02 1.53876247e-02 9.37453685e-03\n",
      " 3.53348932e-01]\n"
     ]
    }
   ],
   "source": [
    "#visualize feature importance of rf\n",
    "print(rf.feature_importances_)"
   ]
  },
  {
   "cell_type": "markdown",
   "metadata": {},
   "source": [
    "- Observation: feature 5 and 12 are most useful."
   ]
  },
  {
   "cell_type": "code",
   "execution_count": 5,
   "metadata": {},
   "outputs": [
    {
     "data": {
      "image/png": "[encoded data removed]",
      "text/plain": [
       "<Figure size 432x288 with 1 Axes>"
      ]
     },
     "metadata": {},
     "output_type": "display_data"
    }
   ],
   "source": [
    "#visualize the impurity decrease distribution at all inner nodes\n",
    "visualize_impurity_decrease(rf, yscale='log', bins=40)"
   ]
  },
  {
   "cell_type": "markdown",
   "metadata": {},
   "source": [
    "- Observation: there are two modes, one around 15, the other around 40."
   ]
  },
  {
   "cell_type": "code",
   "execution_count": 6,
   "metadata": {},
   "outputs": [],
   "source": [
    "#preprocess compute the prevalence of the rf model\n",
    "prevalence = get_prevalent_interactions(rf, impurity_decrease_threshold=9, min_support=10, signed=True)"
   ]
  },
  {
   "cell_type": "code",
   "execution_count": 9,
   "metadata": {},
   "outputs": [
    {
     "data": {
      "image/png": "[encoded data removed]",
      "text/plain": [
       "<Figure size 432x288 with 1 Axes>"
      ]
     },
     "metadata": {},
     "output_type": "display_data"
    }
   ],
   "source": [
    "#visualize prevalence of the interactions from signed irf\n",
    "visualize_prevalent_interactions(prevalence)"
   ]
  },
  {
   "cell_type": "markdown",
   "metadata": {},
   "source": [
    "- Observation: There is a order-two interaction that is close to the limit."
   ]
  },
  {
   "cell_type": "code",
   "execution_count": 10,
   "metadata": {},
   "outputs": [
    {
     "data": {
      "text/plain": [
       "[(((5, '-'),), 0.3874999999999994),\n",
       " (((5, '+'),), 0.38749999999999896),\n",
       " (((12, '+'),), 0.3475000000000013),\n",
       " (((12, '-'),), 0.347499999999997),\n",
       " (((5, '-'), (12, '-')), 0.23499999999999976),\n",
       " (((5, '-'), (12, '+')), 0.15249999999999977),\n",
       " (((5, '+'), (12, '-')), 0.08249999999999963)]"
      ]
     },
     "execution_count": 10,
     "metadata": {},
     "output_type": "execute_result"
    }
   ],
   "source": [
    "#visualize interactions sorted by prevalence\n",
    "sorted(list(prevalence.items()), key= lambda x: -x[1])"
   ]
  },
  {
   "cell_type": "markdown",
   "metadata": {},
   "source": [
    "- Observation: the interaction (5-, 12-) seems significant. "
   ]
  }
 ],
 "metadata": {
  "kernelspec": {
   "display_name": "Environment (conda_pytorch_p36)",
   "language": "python",
   "name": "conda_pytorch_p36"
  },
  "language_info": {
   "codemirror_mode": {
    "name": "ipython",
    "version": 3
   },
   "file_extension": ".py",
   "mimetype": "text/x-python",
   "name": "python",
   "nbconvert_exporter": "python",
   "pygments_lexer": "ipython3",
   "version": "3.6.5"
  }
 },
 "nbformat": 4,
 "nbformat_minor": 2
}
