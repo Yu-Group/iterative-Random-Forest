{
 "cells": [
  {
   "cell_type": "markdown",
   "metadata": {},
   "source": [
    "# Demo of visualizing iRF interaction prevalence "
   ]
  },
  {
   "cell_type": "code",
   "execution_count": 1,
   "metadata": {},
   "outputs": [],
   "source": [
    "import irf\n",
    "from sklearn.datasets import load_boston, load_breast_cancer\n",
    "from irf.ensemble import (wrf, \n",
    "                          wrf_reg)\n",
    "from irf.utils import (get_prevalent_interactions, \n",
    "                       visualize_impurity_decrease, \n",
    "                       visualize_prevalent_interactions)\n",
    "import numpy as np"
   ]
  },
  {
   "cell_type": "markdown",
   "metadata": {},
   "source": [
    "### load data"
   ]
  },
  {
   "cell_type": "code",
   "execution_count": 2,
   "metadata": {},
   "outputs": [],
   "source": [
    "#load_data\n",
    "data = load_boston()\n",
    "#data = load_breast_cancer()\n",
    "X = data['data']\n",
    "y = data['target']"
   ]
  },
  {
   "cell_type": "markdown",
   "metadata": {},
   "source": [
    "### traing weighted RF"
   ]
  },
  {
   "cell_type": "code",
   "execution_count": 3,
   "metadata": {},
   "outputs": [
    {
     "data": {
      "text/plain": [
       "wrf_reg(bootstrap=True, ccp_alpha=0.0, criterion='mse', max_depth=None,\n",
       "        max_features='auto', max_leaf_nodes=None, max_samples=None,\n",
       "        min_impurity_decrease=0.01, min_impurity_split=None, min_samples_leaf=1,\n",
       "        min_samples_split=2, min_weight_fraction_leaf=0.0, n_estimators=100,\n",
       "        n_jobs=None, oob_score=False, random_state=None, verbose=0,\n",
       "        warm_start=False)"
      ]
     },
     "execution_count": 3,
     "metadata": {},
     "output_type": "execute_result"
    }
   ],
   "source": [
    "#train_model\n",
    "rf = wrf_reg(min_impurity_decrease=0.01)\n",
    "weight = np.ones((X.shape[1],))\n",
    "weight = weight / np.sum(weight)\n",
    "rf.fit(X, y, feature_weight=weight, K = 3, keep_record=False)"
   ]
  },
  {
   "cell_type": "code",
   "execution_count": 4,
   "metadata": {},
   "outputs": [
    {
     "name": "stdout",
     "output_type": "stream",
     "text": [
      "[0.03944525 0.00050898 0.00419495 0.00047362 0.02077369 0.43525535\n",
      " 0.01113178 0.06336516 0.00163973 0.01238247 0.01501942 0.00775546\n",
      " 0.38805414]\n"
     ]
    }
   ],
   "source": [
    "#visualize feature importance of rf\n",
    "print(rf.feature_importances_)"
   ]
  },
  {
   "cell_type": "markdown",
   "metadata": {},
   "source": [
    "- Observation: feature 5 and 12 are most useful."
   ]
  },
  {
   "cell_type": "code",
   "execution_count": 6,
   "metadata": {},
   "outputs": [
    {
     "data": {
      "image/png": "[encoded data removed]",
      "text/plain": [
       "<Figure size 432x288 with 1 Axes>"
      ]
     },
     "metadata": {},
     "output_type": "display_data"
    }
   ],
   "source": [
    "#visualize the impurity decrease distribution at all inner nodes\n",
    "visualize_impurity_decrease(rf, yscale='log', xscale=\"linear\", bins=40)"
   ]
  },
  {
   "cell_type": "markdown",
   "metadata": {},
   "source": [
    "- Observation: there are two modes, one around 15, the other around 40."
   ]
  },
  {
   "cell_type": "code",
   "execution_count": 7,
   "metadata": {},
   "outputs": [],
   "source": [
    "#preprocess compute the prevalence of the rf model\n",
    "prevalence = get_prevalent_interactions(rf, impurity_decrease_threshold=9, min_support=10, signed=True)"
   ]
  },
  {
   "cell_type": "code",
   "execution_count": 8,
   "metadata": {},
   "outputs": [
    {
     "data": {
      "image/png": "[encoded data removed]",
      "text/plain": [
       "<Figure size 432x288 with 1 Axes>"
      ]
     },
     "metadata": {},
     "output_type": "display_data"
    }
   ],
   "source": [
    "#visualize prevalence of the interactions from signed irf\n",
    "visualize_prevalent_interactions(prevalence)"
   ]
  },
  {
   "cell_type": "markdown",
   "metadata": {},
   "source": [
    "- Observation: There is a order-two interaction that is close to the limit."
   ]
  },
  {
   "cell_type": "code",
   "execution_count": 9,
   "metadata": {},
   "outputs": [
    {
     "data": {
      "text/plain": [
       "[(((12, 'R'),), 0.18000000000000055),\n",
       " (((12, 'L'),), 0.1799999999999983),\n",
       " (((5, 'R'),), 0.17624999999999919),\n",
       " (((5, 'L'),), 0.17624999999999916),\n",
       " (((5, 'L'), (12, 'L')), 0.10625000000000025),\n",
       " (((5, 'L'), (12, 'R')), 0.06999999999999974),\n",
       " (((5, 'R'), (12, 'L')), 0.03624999999999985),\n",
       " (((7, 'R'),), 0.00125),\n",
       " (((7, 'R'), (12, 'L')), 0.00125),\n",
       " (((5, 'L'), (7, 'R')), 0.00125),\n",
       " (((5, 'L'), (7, 'R'), (12, 'L')), 0.00125),\n",
       " (((0, 'L'),), 0.0006250000000000001),\n",
       " (((0, 'L'), (12, 'L')), 0.0006250000000000001),\n",
       " (((0, 'L'), (5, 'L')), 0.0006250000000000001),\n",
       " (((0, 'L'), (5, 'L'), (12, 'L')), 0.0006250000000000001)]"
      ]
     },
     "execution_count": 9,
     "metadata": {},
     "output_type": "execute_result"
    }
   ],
   "source": [
    "#visualize interactions sorted by prevalence\n",
    "sorted(list(prevalence.items()), key= lambda x: -x[1])"
   ]
  },
  {
   "cell_type": "markdown",
   "metadata": {},
   "source": [
    "- Observation: the interaction (5-, 12-) seems significant. "
   ]
  }
 ],
 "metadata": {
  "kernelspec": {
   "display_name": "Python 3",
   "language": "python",
   "name": "python3"
  },
  "language_info": {
   "codemirror_mode": {
    "name": "ipython",
    "version": 3
   },
   "file_extension": ".py",
   "mimetype": "text/x-python",
   "name": "python",
   "nbconvert_exporter": "python",
   "pygments_lexer": "ipython3",
   "version": "3.6.5"
  }
 },
 "nbformat": 4,
 "nbformat_minor": 2
}
